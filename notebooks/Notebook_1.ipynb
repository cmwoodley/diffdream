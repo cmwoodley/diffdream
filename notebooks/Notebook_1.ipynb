{
 "cells": [
  {
   "cell_type": "code",
   "execution_count": 1,
   "metadata": {},
   "outputs": [],
   "source": [
    "import numpy as np\n",
    "from rdkit import Chem\n",
    "from rdkit.Chem import AllChem\n",
    "import plotly.express as px\n",
    "import plotly.graph_objects as go\n",
    "import itertools\n",
    "import torch\n",
    "from torch import nn\n",
    "from torch.utils.data import TensorDataset, DataLoader\n",
    "import pandas as pd\n",
    "from torchvision.io import read_image\n",
    "from torch.utils.data import Dataset\n",
    "from diffusers import DDPMScheduler\n",
    "import matplotlib.pyplot as plt\n",
    "\n",
    "import sys\n",
    "sys.path.insert(1,\"../scripts\")\n",
    "from get_voxels import get_mol_voxels\n",
    "from networks import Encoder, UNet3D"
   ]
  },
  {
   "cell_type": "code",
   "execution_count": 2,
   "metadata": {},
   "outputs": [
    {
     "name": "stdout",
     "output_type": "stream",
     "text": [
      "Using device: cuda\n"
     ]
    }
   ],
   "source": [
    "device = torch.device(\"cuda\" if torch.cuda.is_available() else \"cpu\")\n",
    "print(f'Using device: {device}')"
   ]
  },
  {
   "cell_type": "code",
   "execution_count": 3,
   "metadata": {},
   "outputs": [
    {
     "data": {
      "text/plain": [
       "Encoder(\n",
       "  (conv3d1): Conv3d(5, 8, kernel_size=(3, 3, 3), stride=(1, 1, 1), padding=(1, 1, 1))\n",
       "  (fc1): Linear(in_features=24, out_features=24, bias=True)\n",
       "  (bn1): BatchNorm3d(8, eps=1e-05, momentum=0.1, affine=True, track_running_stats=True)\n",
       "  (relu1): ReLU()\n",
       "  (conv3d2): Conv3d(8, 3, kernel_size=(3, 3, 3), stride=(1, 1, 1), padding=(1, 1, 1))\n",
       "  (bn2): BatchNorm3d(3, eps=1e-05, momentum=0.1, affine=True, track_running_stats=True)\n",
       "  (sig1): Sigmoid()\n",
       ")"
      ]
     },
     "execution_count": 3,
     "metadata": {},
     "output_type": "execute_result"
    }
   ],
   "source": [
    "encoder = Encoder()\n",
    "encoder.to(device)"
   ]
  },
  {
   "cell_type": "code",
   "execution_count": 4,
   "metadata": {},
   "outputs": [
    {
     "data": {
      "text/plain": [
       "<All keys matched successfully>"
      ]
     },
     "execution_count": 4,
     "metadata": {},
     "output_type": "execute_result"
    }
   ],
   "source": [
    "encoder.load_state_dict(torch.load(\"../models/state_dict_encoder.pt\"))"
   ]
  },
  {
   "cell_type": "code",
   "execution_count": 5,
   "metadata": {},
   "outputs": [],
   "source": [
    "smiles = []\n",
    "with open(\"../datasets/raw/zinc15_druglike_clean_canonical_max60.smi\") as f:\n",
    "    i=0\n",
    "    for i, line in enumerate(f):\n",
    "        smiles.append(line)\n",
    "        if i > 2000:\n",
    "            break"
   ]
  },
  {
   "cell_type": "code",
   "execution_count": 6,
   "metadata": {},
   "outputs": [],
   "source": [
    "smiles=smiles[50001:]"
   ]
  },
  {
   "cell_type": "code",
   "execution_count": 7,
   "metadata": {},
   "outputs": [],
   "source": [
    "# inputs = []\n",
    "# targets = []\n",
    "\n",
    "# for i in range(len(smiles)):\n",
    "#     try:\n",
    "#         inp, targ = get_mol_voxels(smiles[i])\n",
    "#         inputs.append(inp)\n",
    "#         targets.append(targ)\n",
    "#     except:\n",
    "#         continue\n",
    "\n",
    "# inputs = torch.stack(inputs)\n",
    "# targets = torch.stack(targets)\n",
    "\n",
    "# with open(\"input.sav\",\"wb\") as f:\n",
    "#     torch.save(inputs, f)\n",
    "\n",
    "# with open(\"target.sav\",\"wb\") as f:\n",
    "#     torch.save(targets, f)"
   ]
  },
  {
   "cell_type": "code",
   "execution_count": 10,
   "metadata": {},
   "outputs": [],
   "source": [
    "class CustomImageDataset(Dataset):\n",
    "    def __init__(self, smiles):\n",
    "        self.transform = get_mol_voxels\n",
    "        self.smiles = smiles\n",
    "\n",
    "    def __len__(self):\n",
    "        return len(self.smiles)\n",
    "\n",
    "    def __getitem__(self, idx):\n",
    "        smile = self.smiles[idx]\n",
    "        return smile\n",
    "\n",
    "smile_DS = CustomImageDataset(smiles)\n",
    "\n",
    "def collate_batch(smiles):\n",
    "    inputs = []\n",
    "    target = []\n",
    "    for smile in smiles:\n",
    "        try:\n",
    "            rep, pharm = get_mol_voxels(smile)\n",
    "            inputs.append(rep)\n",
    "            target.append(pharm)\n",
    "        except:\n",
    "            continue\n",
    "\n",
    "    return torch.stack(inputs), torch.stack(target)"
   ]
  },
  {
   "cell_type": "code",
   "execution_count": 6,
   "metadata": {},
   "outputs": [],
   "source": [
    "# Dataloader (you can mess with batch size)\n",
    "train_dataloader = DataLoader(smile_DS, batch_size=128, collate_fn=collate_batch)\n",
    "\n",
    "# How many runs through the data should we do?\n",
    "n_epochs = 1\n",
    "\n",
    "# Our loss finction\n",
    "criterion = nn.MSELoss()\n",
    "# The optimizer\n",
    "optimizer = torch.optim.Adam(encoder.parameters())\n",
    "\n",
    "# Keeping a record of the losses for later viewing\n",
    "losses_enc = []\n",
    "\n",
    "# Initialize the DDPM scheduler\n",
    "ddpm = DDPMScheduler(num_train_timesteps=1000)"
   ]
  },
  {
   "cell_type": "code",
   "execution_count": 11,
   "metadata": {},
   "outputs": [
    {
     "name": "stdout",
     "output_type": "stream",
     "text": [
      "Gen_rep_fails\n",
      "Gen_rep_fails\n",
      "Gen_rep_fails\n",
      "Gen_rep_fails\n",
      "Gen_rep_fails\n",
      "Gen_rep_fails\n",
      "Gen_rep_fails\n"
     ]
    },
    {
     "name": "stderr",
     "output_type": "stream",
     "text": [
      "RDKit ERROR: [15:33:26] UFFTYPER: Unrecognized atom type: S_5+4 (1)\n"
     ]
    },
    {
     "name": "stdout",
     "output_type": "stream",
     "text": [
      "Finished epoch 0. Average enc loss for this epoch: 0.094743\n"
     ]
    }
   ],
   "source": [
    "for epoch in range(n_epochs):\n",
    "    \n",
    "    for i, (x, targets) in enumerate(train_dataloader):\n",
    "        x = x.to(device)\n",
    "        targets = targets.to(device)\n",
    "\n",
    "        # Forward pass\n",
    "        encoded_tensor = encoder(x)\n",
    "        loss = criterion(encoded_tensor, targets)\n",
    "        losses_enc.append(loss.cpu().detach().numpy())\n",
    "        \n",
    "        # Backward and optimize\n",
    "        optimizer.zero_grad()\n",
    "        loss.backward()\n",
    "        optimizer.step()\n",
    "\n",
    "        if i%100 == 0:\n",
    "            torch.save(encoder.state_dict(), \"../models/state_dict_encoder.pt\")\n",
    "\n",
    "    # Print our the average of the loss values for this epoch:\n",
    "    avg_loss = sum(losses_enc[-len(train_dataloader):])/len(train_dataloader)\n",
    "    print(f'Finished epoch {epoch}. Average enc loss for this epoch: {avg_loss:05f}')#"
   ]
  },
  {
   "cell_type": "code",
   "execution_count": 12,
   "metadata": {},
   "outputs": [
    {
     "data": {
      "text/plain": [
       "[<matplotlib.lines.Line2D at 0x7fbfdcb42f28>]"
      ]
     },
     "execution_count": 12,
     "metadata": {},
     "output_type": "execute_result"
    },
    {
     "data": {
      "image/png": "[encoded data removed]",
      "text/plain": [
       "<Figure size 432x288 with 1 Axes>"
      ]
     },
     "metadata": {
      "needs_background": "light"
     },
     "output_type": "display_data"
    }
   ],
   "source": [
    "import matplotlib.pyplot as plt\n",
    "\n",
    "plt.plot(losses_enc)"
   ]
  },
  {
   "cell_type": "code",
   "execution_count": 7,
   "metadata": {},
   "outputs": [
    {
     "data": {
      "text/plain": [
       "UNet3D(\n",
       "  (a_block1): Conv3DBlock(\n",
       "    (conv1): Conv3d(5, 32, kernel_size=(3, 3, 3), stride=(1, 1, 1), padding=(1, 1, 1))\n",
       "    (bn1): BatchNorm3d(32, eps=1e-05, momentum=0.1, affine=True, track_running_stats=True)\n",
       "    (conv2): Conv3d(32, 64, kernel_size=(3, 3, 3), stride=(1, 1, 1), padding=(1, 1, 1))\n",
       "    (bn2): BatchNorm3d(64, eps=1e-05, momentum=0.1, affine=True, track_running_stats=True)\n",
       "    (relu): ReLU()\n",
       "    (pooling): MaxPool3d(kernel_size=(2, 2, 2), stride=2, padding=0, dilation=1, ceil_mode=False)\n",
       "  )\n",
       "  (a_block2): Conv3DBlock(\n",
       "    (conv1): Conv3d(64, 64, kernel_size=(3, 3, 3), stride=(1, 1, 1), padding=(1, 1, 1))\n",
       "    (bn1): BatchNorm3d(64, eps=1e-05, momentum=0.1, affine=True, track_running_stats=True)\n",
       "    (conv2): Conv3d(64, 128, kernel_size=(3, 3, 3), stride=(1, 1, 1), padding=(1, 1, 1))\n",
       "    (bn2): BatchNorm3d(128, eps=1e-05, momentum=0.1, affine=True, track_running_stats=True)\n",
       "    (relu): ReLU()\n",
       "    (pooling): MaxPool3d(kernel_size=(2, 2, 2), stride=2, padding=0, dilation=1, ceil_mode=False)\n",
       "  )\n",
       "  (a_block3): Conv3DBlock(\n",
       "    (conv1): Conv3d(128, 128, kernel_size=(3, 3, 3), stride=(1, 1, 1), padding=(1, 1, 1))\n",
       "    (bn1): BatchNorm3d(128, eps=1e-05, momentum=0.1, affine=True, track_running_stats=True)\n",
       "    (conv2): Conv3d(128, 256, kernel_size=(3, 3, 3), stride=(1, 1, 1), padding=(1, 1, 1))\n",
       "    (bn2): BatchNorm3d(256, eps=1e-05, momentum=0.1, affine=True, track_running_stats=True)\n",
       "    (relu): ReLU()\n",
       "    (pooling): MaxPool3d(kernel_size=(2, 2, 2), stride=2, padding=0, dilation=1, ceil_mode=False)\n",
       "  )\n",
       "  (bottleNeck): Conv3DBlock(\n",
       "    (conv1): Conv3d(256, 256, kernel_size=(3, 3, 3), stride=(1, 1, 1), padding=(1, 1, 1))\n",
       "    (bn1): BatchNorm3d(256, eps=1e-05, momentum=0.1, affine=True, track_running_stats=True)\n",
       "    (conv2): Conv3d(256, 512, kernel_size=(3, 3, 3), stride=(1, 1, 1), padding=(1, 1, 1))\n",
       "    (bn2): BatchNorm3d(512, eps=1e-05, momentum=0.1, affine=True, track_running_stats=True)\n",
       "    (relu): ReLU()\n",
       "  )\n",
       "  (s_block3): UpConv3DBlock(\n",
       "    (upconv1): ConvTranspose3d(512, 512, kernel_size=(2, 2, 2), stride=(2, 2, 2))\n",
       "    (relu): ReLU()\n",
       "    (bn): BatchNorm3d(256, eps=1e-05, momentum=0.1, affine=True, track_running_stats=True)\n",
       "    (conv1): Conv3d(768, 256, kernel_size=(3, 3, 3), stride=(1, 1, 1), padding=(1, 1, 1))\n",
       "    (conv2): Conv3d(256, 256, kernel_size=(3, 3, 3), stride=(1, 1, 1), padding=(1, 1, 1))\n",
       "  )\n",
       "  (s_block2): UpConv3DBlock(\n",
       "    (upconv1): ConvTranspose3d(256, 256, kernel_size=(2, 2, 2), stride=(2, 2, 2))\n",
       "    (relu): ReLU()\n",
       "    (bn): BatchNorm3d(128, eps=1e-05, momentum=0.1, affine=True, track_running_stats=True)\n",
       "    (conv1): Conv3d(384, 128, kernel_size=(3, 3, 3), stride=(1, 1, 1), padding=(1, 1, 1))\n",
       "    (conv2): Conv3d(128, 128, kernel_size=(3, 3, 3), stride=(1, 1, 1), padding=(1, 1, 1))\n",
       "  )\n",
       "  (s_block1): UpConv3DBlock(\n",
       "    (upconv1): ConvTranspose3d(128, 128, kernel_size=(2, 2, 2), stride=(2, 2, 2))\n",
       "    (relu): ReLU()\n",
       "    (bn): BatchNorm3d(64, eps=1e-05, momentum=0.1, affine=True, track_running_stats=True)\n",
       "    (conv1): Conv3d(192, 64, kernel_size=(3, 3, 3), stride=(1, 1, 1), padding=(1, 1, 1))\n",
       "    (conv2): Conv3d(64, 64, kernel_size=(3, 3, 3), stride=(1, 1, 1), padding=(1, 1, 1))\n",
       "    (conv3): Conv3d(64, 5, kernel_size=(1, 1, 1), stride=(1, 1, 1))\n",
       "    (sig1): Sigmoid()\n",
       "  )\n",
       ")"
      ]
     },
     "execution_count": 7,
     "metadata": {},
     "output_type": "execute_result"
    }
   ],
   "source": [
    "net = UNet3D(in_channels=5, num_classes=5)\n",
    "net.to(device)"
   ]
  },
  {
   "cell_type": "code",
   "execution_count": 8,
   "metadata": {},
   "outputs": [
    {
     "data": {
      "text/plain": [
       "<All keys matched successfully>"
      ]
     },
     "execution_count": 8,
     "metadata": {},
     "output_type": "execute_result"
    }
   ],
   "source": [
    "net.load_state_dict(torch.load(\"../models/state_dict_net.pt\"))"
   ]
  },
  {
   "cell_type": "code",
   "execution_count": 11,
   "metadata": {},
   "outputs": [],
   "source": [
    "# How many runs through the data should we do?\n",
    "n_epochs = 1\n",
    "\n",
    "train_dataloader = DataLoader(smile_DS, batch_size=32, collate_fn=collate_batch)\n",
    "\n",
    "# Our loss finction\n",
    "loss_fn = nn.BCELoss()\n",
    "\n",
    "# The optimizer\n",
    "opt = torch.optim.Adam(net.parameters(), lr=0.001) \n",
    "\n",
    "# Keeping a record of the losses for later viewing\n",
    "losses_net = []\n",
    "# Initialize the DDPM scheduler\n",
    "ddpm = DDPMScheduler(num_train_timesteps=1000)"
   ]
  },
  {
   "cell_type": "code",
   "execution_count": 12,
   "metadata": {},
   "outputs": [
    {
     "name": "stdout",
     "output_type": "stream",
     "text": [
      "500 batches done\n",
      "500 batches done\n",
      "500 batches done\n",
      "500 batches done\n",
      "500 batches done\n",
      "500 batches done\n",
      "500 batches done\n",
      "Finished epoch 0. Average loss for this epoch: 0.013121\n"
     ]
    },
    {
     "data": {
      "text/plain": [
       "[<matplotlib.lines.Line2D at 0x7f3f607d0a90>]"
      ]
     },
     "execution_count": 12,
     "metadata": {},
     "output_type": "execute_result"
    },
    {
     "data": {
      "image/png": "[encoded data removed]",
      "text/plain": [
       "<Figure size 432x288 with 1 Axes>"
      ]
     },
     "metadata": {
      "needs_background": "light"
     },
     "output_type": "display_data"
    },
    {
     "ename": "",
     "evalue": "",
     "output_type": "error",
     "traceback": [
      "\u001b[1;31mThe Kernel crashed while executing code in the the current cell or a previous cell. Please review the code in the cell(s) to identify a possible cause of the failure. Click <a href='https://aka.ms/vscodeJupyterKernelCrash'>here</a> for more info. View Jupyter <a href='command:jupyter.viewOutput'>log</a> for further details."
     ]
    }
   ],
   "source": [
    "for epoch in range(n_epochs):\n",
    "    \n",
    "    for i, (x, targets) in enumerate(train_dataloader):\n",
    "        timesteps = torch.randint(\n",
    "            0,\n",
    "            ddpm.num_train_timesteps,\n",
    "            (x.shape[0],),\n",
    "            device=x.device,\n",
    "        ).long()\n",
    "\n",
    "        noise = torch.randn(x.shape).to(x.device)\n",
    "        noisy_x = ddpm.add_noise(x, noise, timesteps)\n",
    "\n",
    "\n",
    "        noisy_x = noisy_x.type(torch.FloatTensor).to(device)\n",
    "\n",
    "        x = x.to(device) # Data on the GPU\n",
    "        # Get the model prediction\n",
    "\n",
    "        pred = net(noisy_x)\n",
    "\n",
    "        # Calculate the loss\n",
    "        \n",
    "        loss = loss_fn(pred, x) # How close is the output to the true 'clean' x?\n",
    "\n",
    "        losses_net.append(loss.cpu().detach().numpy())\n",
    "\n",
    "        # Backprop and update the params:\n",
    "        opt.zero_grad()\n",
    "        loss.backward()\n",
    "        opt.step()\n",
    "\n",
    "        if i%500 == 0:\n",
    "            torch.save(net.state_dict(), \"../models/state_dict_net.pt\")\n",
    "            print(\"500 batches done\")\n",
    "\n",
    "\n",
    "    # Print our the average of the loss values for this epoch:\n",
    "    avg_loss = sum(losses_net[-len(train_dataloader):])/len(train_dataloader)\n",
    "    print(f'Finished epoch {epoch}. Average loss for this epoch: {avg_loss:05f}')\n",
    "\n",
    "# View the loss curve\n",
    "plt.plot(losses_net)"
   ]
  }
 ],
 "metadata": {
  "kernelspec": {
   "display_name": "ligdream",
   "language": "python",
   "name": "python3"
  },
  "language_info": {
   "codemirror_mode": {
    "name": "ipython",
    "version": 3
   },
   "file_extension": ".py",
   "mimetype": "text/x-python",
   "name": "python",
   "nbconvert_exporter": "python",
   "pygments_lexer": "ipython3",
   "version": "3.6.15 | packaged by conda-forge | (default, Dec  3 2021, 18:49:41) \n[GCC 9.4.0]"
  },
  "orig_nbformat": 4,
  "vscode": {
   "interpreter": {
    "hash": "143b4da7727a9152bb94050db5642443df545a5cda503424792f6e55599a2504"
   }
  }
 },
 "nbformat": 4,
 "nbformat_minor": 2
}
